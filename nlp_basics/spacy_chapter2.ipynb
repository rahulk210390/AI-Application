{
 "cells": [
  {
   "cell_type": "code",
   "execution_count": 2,
   "id": "be2307a6-1144-45b0-a27b-6ca4a552d916",
   "metadata": {},
   "outputs": [],
   "source": [
    "import spacy"
   ]
  },
  {
   "cell_type": "code",
   "execution_count": 3,
   "id": "8bd93843-e094-4fca-ac3f-7a5140c9d7e0",
   "metadata": {},
   "outputs": [],
   "source": [
    "#!python -m spacy download en_core_web_md"
   ]
  },
  {
   "cell_type": "code",
   "execution_count": 4,
   "id": "dcb5e762-ff73-475b-a907-d44d3e473c34",
   "metadata": {},
   "outputs": [],
   "source": [
    "nlp = spacy.load('en_core_web_md')"
   ]
  },
  {
   "cell_type": "code",
   "execution_count": 5,
   "id": "7c3bf282-14cf-4363-9e41-e417e52480eb",
   "metadata": {},
   "outputs": [],
   "source": [
    "import wikipedia\n",
    "\n",
    "text = wikipedia.summary(\"United States\")"
   ]
  },
  {
   "cell_type": "code",
   "execution_count": 6,
   "id": "7791fecf-66cd-4108-9b67-8402f66eba76",
   "metadata": {},
   "outputs": [],
   "source": [
    "doc = nlp(text)"
   ]
  },
  {
   "cell_type": "code",
   "execution_count": 14,
   "id": "911b2356-a14b-4f91-ab77-4c8118bf5c20",
   "metadata": {},
   "outputs": [
    {
     "name": "stdout",
     "output_type": "stream",
     "text": [
      "The United States of America (USA or U.S.A.), commonly known as the United States (US or U.S.) or America, is a country primarily located in North America.\n"
     ]
    }
   ],
   "source": [
    "sentence1 = list(doc.sents)[0]\n",
    "print (sentence1)"
   ]
  },
  {
   "cell_type": "code",
   "execution_count": 15,
   "id": "790a5ee7-50ab-4c8e-9487-efc3e7658998",
   "metadata": {},
   "outputs": [],
   "source": [
    "import numpy as np"
   ]
  },
  {
   "cell_type": "code",
   "execution_count": 16,
   "id": "16a67762-c352-4551-9897-7775f82d97df",
   "metadata": {},
   "outputs": [],
   "source": [
    "word_to_search = 'Country'"
   ]
  },
  {
   "cell_type": "code",
   "execution_count": 17,
   "id": "e50c91da-4351-4b40-9e95-0fd376fb0aec",
   "metadata": {},
   "outputs": [
    {
     "name": "stdout",
     "output_type": "stream",
     "text": [
      "['Intercountry', 'Strathtay', 'Southerns', 'Heathlands', 'Facies', 'Communitas', 'Betties', 'Norteños', 'Trencsén', 'Regionalverkehr']\n"
     ]
    }
   ],
   "source": [
    "ms = nlp.vocab.vectors.most_similar(\n",
    "    np.asarray([nlp.vocab.vectors[nlp.vocab.strings[word_to_search]]]), n=10)\n",
    "words = [nlp.vocab.strings[w] for w in ms[0][0]]\n",
    "distance = ms[2]\n",
    "print(words)"
   ]
  },
  {
   "cell_type": "code",
   "execution_count": 18,
   "id": "df3ae517-4609-4b37-abc8-2ae7113e5b62",
   "metadata": {},
   "outputs": [
    {
     "name": "stdout",
     "output_type": "stream",
     "text": [
      "I enjoy apples <--> I enjoy climbing trees 0.9021378059432545\n"
     ]
    }
   ],
   "source": [
    "doc1= nlp('I enjoy apples')\n",
    "doc2= nlp('I enjoy climbing trees')\n",
    "print(doc1, '<-->', doc2, doc1.similarity(doc2))"
   ]
  },
  {
   "cell_type": "markdown",
   "id": "6309d6bc-8cb2-457c-9b2a-8d2d6fefbfb2",
   "metadata": {},
   "source": [
    "# Entity Ruler"
   ]
  },
  {
   "cell_type": "code",
   "execution_count": 19,
   "id": "5eb6407e-1984-41ef-9837-4804e3d9fa89",
   "metadata": {},
   "outputs": [],
   "source": [
    "nlp = spacy.load('en_core_web_sm')"
   ]
  },
  {
   "cell_type": "code",
   "execution_count": 22,
   "id": "dde837b5-6637-4835-8a3c-61542d7d1f46",
   "metadata": {},
   "outputs": [
    {
     "data": {
      "text/plain": [
       "<spacy.vocab.Vocab at 0x226b3c0bd00>"
      ]
     },
     "execution_count": 22,
     "metadata": {},
     "output_type": "execute_result"
    }
   ],
   "source": [
    "from spacy.vocab import Vocab\n",
    "vocab = Vocab(strings=[\"hello\", \"world\"])\n",
    "vocab"
   ]
  },
  {
   "cell_type": "code",
   "execution_count": 23,
   "id": "9604c828-c6bd-4452-8365-1bd6cef8acaa",
   "metadata": {},
   "outputs": [],
   "source": [
    "from spacy.tokens import Doc\n",
    "from spacy.training import Example\n",
    "\n",
    "predicted = Doc(vocab, words=[\"Apply\", \"some\", \"sunscreen\"])\n",
    "token_ref = [\"Apply\", \"some\", \"sun\", \"screen\"]\n",
    "tags_ref = [\"VERB\", \"DET\", \"NOUN\", \"NOUN\"]\n",
    "example = Example.from_dict(predicted, {\"words\": token_ref, \"tags\": tags_ref})"
   ]
  },
  {
   "cell_type": "code",
   "execution_count": 24,
   "id": "13932164-d8bf-448b-b711-dcd20c9db80b",
   "metadata": {},
   "outputs": [
    {
     "data": {
      "text/plain": [
       "{'doc_annotation': {'cats': {}, 'entities': ['O', 'O', 'O', 'O'], 'spans': {}, 'links': {}}, 'token_annotation': {'ORTH': ['Apply', 'some', 'sun', 'screen'], 'SPACY': [True, True, True, True], 'TAG': ['VERB', 'DET', 'NOUN', 'NOUN'], 'LEMMA': ['', '', '', ''], 'POS': ['', '', '', ''], 'MORPH': ['', '', '', ''], 'HEAD': [0, 1, 2, 3], 'DEP': ['', '', '', ''], 'SENT_START': [1, 0, 0, 0]}}"
      ]
     },
     "execution_count": 24,
     "metadata": {},
     "output_type": "execute_result"
    }
   ],
   "source": [
    "example"
   ]
  },
  {
   "cell_type": "code",
   "execution_count": null,
   "id": "e0b27e73-c7d4-45be-864a-475ad409cae5",
   "metadata": {},
   "outputs": [],
   "source": []
  }
 ],
 "metadata": {
  "kernelspec": {
   "display_name": "Python 3 (ipykernel)",
   "language": "python",
   "name": "python3"
  },
  "language_info": {
   "codemirror_mode": {
    "name": "ipython",
    "version": 3
   },
   "file_extension": ".py",
   "mimetype": "text/x-python",
   "name": "python",
   "nbconvert_exporter": "python",
   "pygments_lexer": "ipython3",
   "version": "3.10.14"
  }
 },
 "nbformat": 4,
 "nbformat_minor": 5
}
